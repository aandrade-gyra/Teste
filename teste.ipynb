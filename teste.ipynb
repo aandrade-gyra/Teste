{
 "cells": [
  {
   "cell_type": "code",
   "execution_count": 1,
   "metadata": {},
   "outputs": [],
   "source": [
    "%load_ext autoreload\n",
    "%autoreload 2"
   ]
  },
  {
   "cell_type": "code",
   "execution_count": 1,
   "metadata": {},
   "outputs": [],
   "source": [
    "import pymongo\n",
    "import numpy as np\n",
    "import datetime\n",
    "import pandas as pd\n",
    "import base64\n",
    "import time\n",
    "import logging\n",
    "import re\n",
    "from sklearn.metrics import accuracy_score, confusion_matrix, matthews_corrcoef, roc_auc_score, roc_curve \n",
    "\n",
    "from bigdata import *\n",
    "from datatrust import *\n",
    "from integrations import *\n",
    "from irrf import *\n",
    "from forecast import *\n",
    "from proscore import *\n",
    "from scr import *\n",
    "\n",
    "def generateClient():\n",
    "    \n",
    "    return pymongo.MongoClient(base64.b64decode(\"bW9uZ29kYitzcnY6Ly9haXJmbG93OmtBQ3cyTHR4Z0Z6ZVB0bkBneXJhbWFpcy1wcm9kdWN0aW9uLmxod3RiLm1vbmdvZGIubmV0L2d5cmFtYWlzP3JldHJ5V3JpdGVzPXRydWUmcmVhZFByZWZlcmVuY2U9c2Vjb25kYXJ5JnJlYWRQcmVmZXJlbmNlVGFncz1ub2RlVHlwZTpBTkFMWVRJQ1Mmdz1tYWpvcml0eQ==\").decode(), ssl=True)\n",
    "\n",
    "client = generateClient()"
   ]
  },
  {
   "cell_type": "code",
   "execution_count": 2,
   "metadata": {},
   "outputs": [
    {
     "name": "stderr",
     "output_type": "stream",
     "text": [
      "c:\\Documentos\\Git\\GyraCharts\\assets\\mongoChartsFunctions.py:125: UserWarning:\n",
      "\n",
      "DataFrame columns are not unique, some columns will be omitted.\n",
      "\n"
     ]
    },
    {
     "data": {
      "text/plain": [
       "[H5(children='SCR', style={}),\n",
       " H6(children='Visão CNPJ', style={}),\n",
       " Div(children=[Div(Div(children=DataTable(id='table424', columns=[{'name': '', 'id': ''}, {'name': 'R$', 'id': 'R$'}], data=[{'': 'Parcela Crédito Especial', 'R$': 0}, {'': 'Parcela Crédito Rotativo', 'R$': 0}, {'': 'Parcela Cartão de Crédito', 'R$': 0}, {'': 'Parcela Crédito Consignado', 'R$': 0}, {'': 'Parcela Crédito Imobiliário', 'R$': 0}, {'': 'Parcela Outros Créditos', 'R$': 0}, {'': 'Outros Créditos a Vencer', 'R$': 0.0}, {'': 'Crédito Consignado a Vencer', 'R$': 0.0}, {'': 'Crédito Imobiliário a Vencer', 'R$': 0.0}, {'': 'Cartão Crédito a Vencer', 'R$': 0.0}, {'': 'Outros Créditos Vencidos', 'R$': 0.0}, {'': 'Crédito Consignado Vencido', 'R$': 0.0}, {'': 'Crédito Imobiliário Vencido', 'R$': 'N/A'}, {'': 'Cartão de Crédito Vencido', 'R$': 0.0}], page_action='native', page_current=0, page_size=14, sort_action='native', sort_mode='multi', style_as_list_view=True, style_cell={'textAlign': 'center', 'padding': '5px', 'font_size': '10px', 'font-family': 'Axiforma', 'height': 'auto'}, style_cell_conditional=[{'if': {'column_id': ''}, 'textAlign': 'left'}], style_data_conditional=[{'if': {'row_index': 'odd'}, 'backgroundColor': 'rgb(248, 248, 248)'}], style_header={'backgroundColor': 'rgb(230, 230, 230)', 'fontWeight': 'bold', 'font_size': '9px', 'maxWidth': '50px', 'textOverflow': 'ellipsis', 'whiteSpace': 'normal'}), style={'overflowX': 'auto', 'overflowY': 'auto', 'height': 'auto', 'margin': '1% 1%'})), Div(Div(children=DataTable(id='table961', columns=[{'name': '', 'id': ''}, {'name': '%', 'id': '%'}], data=[{'': 'Valor a expirar em 30 dias / Faturamento auto-declarado', '%': 'N/A'}, {'': 'Valor a expirar em 30 dias / Soma das vendas nos últimos 3 meses', '%': 'N/A'}, {'': 'Valor a expirar em 30 dias / Soma das vendas nos últimos 6 meses', '%': 'N/A'}, {'': 'Valor a expirar em 30 dias / Soma das vendas nos últimos 12 meses', '%': 'N/A'}, {'': 'Faturamento / Faturamento auto-declarado', '%': 'N/A'}, {'': 'Faturamento / Faturamento auto-declarado 3 meses', '%': 'N/A'}, {'': 'Faturamento / Faturamento auto-declarado 6 meses', '%': 'N/A'}, {'': 'Faturamento / Faturamento auto-declarado 12 meses', '%': 'N/A'}, {'': 'Risco Total / Faturamento auto-declarado', '%': 'N/A'}, {'': 'lp / Faturamento auto-declarado', '%': 'N/A'}, {'': 'cp / Faturamento auto-declarado', '%': 'N/A'}, {'': 'mp / Faturamento auto-declarado', '%': 'N/A'}], page_action='native', page_current=0, page_size=14, sort_action='native', sort_mode='multi', style_as_list_view=True, style_cell={'textAlign': 'center', 'padding': '5px', 'font_size': '10px', 'font-family': 'Axiforma', 'height': 'auto'}, style_cell_conditional=[{'if': {'column_id': ''}, 'textAlign': 'left'}], style_data_conditional=[{'if': {'row_index': 'odd'}, 'backgroundColor': 'rgb(248, 248, 248)'}], style_header={'backgroundColor': 'rgb(230, 230, 230)', 'fontWeight': 'bold', 'font_size': '9px', 'maxWidth': '50px', 'textOverflow': 'ellipsis', 'whiteSpace': 'normal'}), style={'overflowX': 'auto', 'overflowY': 'auto', 'height': 'auto', 'margin': '1% 1%'}))], style={'width': '100%', 'display': 'inline-block'}),\n",
       " Div(children=[Div(children=[Graph(id='creditLimitAmountcnpjgauge1', figure=Figure({\n",
       "     'data': [{'domain': {'column': 0, 'row': 0},\n",
       "               'gauge': {'axis': {'visible': False}},\n",
       "               'mode': 'number',\n",
       "               'number': {'font': {'size': 40}, 'prefix': 'Medio - '},\n",
       "               'title': {'font': {'size': 24}, 'text': 'Risco - SCR CNPJ'},\n",
       "               'type': 'indicator',\n",
       "               'value': 1}],\n",
       "     'layout': {'height': 200, 'template': '...'}\n",
       " }), style={'background': '#FFFFFF', 'border': 'none', 'border-radius': '1px', 'box-shadow': '0 1px 1px 0 rgba(70, 76, 79, .2)'})], className='tripleFigure', style={}), Div(children=[Graph(id='creditLimitAmountcnpjgauge2', figure=Figure({\n",
       "     'data': [{'domain': {'column': 0, 'row': 0},\n",
       "               'gauge': {'axis': {'visible': False}},\n",
       "               'mode': 'number',\n",
       "               'number': {'font': {'size': 40}, 'prefix': 'Baixo - '},\n",
       "               'title': {'font': {'size': 24}, 'text': 'Uso - SCR CNPJ'},\n",
       "               'type': 'indicator',\n",
       "               'value': 0}],\n",
       "     'layout': {'height': 200, 'template': '...'}\n",
       " }), style={'background': '#FFFFFF', 'border': 'none', 'border-radius': '1px', 'box-shadow': '0 1px 1px 0 rgba(70, 76, 79, .2)'})], className='tripleFigure', style={}), Div(children=[Graph(id='creditLimitAmountcnpjgauge3', figure=Figure({\n",
       "     'data': [{'domain': {'column': 0, 'row': 0},\n",
       "               'gauge': {'axis': {'visible': False}},\n",
       "               'mode': 'number',\n",
       "               'number': {'font': {'size': 40}, 'prefix': 'Medio - '},\n",
       "               'title': {'font': {'size': 24}, 'text': 'Variação - SCR CNPJ'},\n",
       "               'type': 'indicator',\n",
       "               'value': 1}],\n",
       "     'layout': {'height': 200, 'template': '...'}\n",
       " }), style={'background': '#FFFFFF', 'border': 'none', 'border-radius': '1px', 'box-shadow': '0 1px 1px 0 rgba(70, 76, 79, .2)'})], className='tripleFigure', style={})], className='row', style={'margin': '1% 1%'}),\n",
       " Details(children=[Summary('Histórico'), Div([Div(children=DataTable(id='table93', columns=[{'name': 'Data', 'id': 'Data'}, {'name': 'Risco Crédito', 'id': 'Risco Crédito'}, {'name': 'Risco Total de Crédito', 'id': 'Risco Total de Crédito'}, {'name': 'Risco Indireto de Crédito', 'id': 'Risco Indireto de Crédito'}, {'name': 'Coobrigações', 'id': 'Coobrigações'}, {'name': 'Qtd. Instituições', 'id': 'Qtd. Instituições'}, {'name': 'Qtd. transações', 'id': 'Qtd. transações'}, {'name': 'A Vencer', 'id': 'A Vencer'}, {'name': 'A Vencer 30 dias', 'id': 'A Vencer 30 dias'}, {'name': 'Total Atraso', 'id': 'Total Atraso'}, {'name': 'Atraso B', 'id': 'Atraso B'}, {'name': 'Atraso C', 'id': 'Atraso C'}, {'name': 'Atraso D', 'id': 'Atraso D'}, {'name': 'Atraso E F G', 'id': 'Atraso E F G'}, {'name': 'Atraso H', 'id': 'Atraso H'}, {'name': 'Atraso > 1 ano', 'id': 'Atraso > 1 ano'}, {'name': 'Perdas Totais', 'id': 'Perdas Totais'}, {'name': 'Perdas até 12M', 'id': 'Perdas até 12M'}, {'name': 'Perdas > 12M', 'id': 'Perdas > 12M'}, {'name': 'Limite de Crédito', 'id': 'Limite de Crédito'}, {'name': 'Limite Crédito (360 dias)', 'id': 'Limite Crédito (360 dias)'}, {'name': 'Limite Crédito (+ que 360 dias)', 'id': 'Limite Crédito (+ que 360 dias)'}], data=[{'Data': '2022-02', 'Risco Crédito': 0.0, 'Risco Total de Crédito': 0.0, 'Risco Indireto de Crédito': 0, 'Coobrigações': 0, 'Qtd. Instituições': 0, 'Qtd. transações': 0, 'A Vencer': 0.0, 'A Vencer 30 dias': 0.0, 'Total Atraso': 0, 'Atraso B': 0, 'Atraso C': 0, 'Atraso D': 0, 'Atraso E F G': 0, 'Atraso H': 0, 'Atraso > 1 ano': 0, 'Perdas Totais': 0, 'Perdas até 12M': 0, 'Perdas > 12M': 0, 'Limite de Crédito': 0.0, 'Limite Crédito (360 dias)': 0.0, 'Limite Crédito (+ que 360 dias)': 0.0}, {'Data': '2022-03', 'Risco Crédito': 0.0, 'Risco Total de Crédito': 0.0, 'Risco Indireto de Crédito': 0, 'Coobrigações': 0, 'Qtd. Instituições': 0, 'Qtd. transações': 0, 'A Vencer': 0.0, 'A Vencer 30 dias': 0.0, 'Total Atraso': 0, 'Atraso B': 0, 'Atraso C': 0, 'Atraso D': 0, 'Atraso E F G': 0, 'Atraso H': 0, 'Atraso > 1 ano': 0, 'Perdas Totais': 0, 'Perdas até 12M': 0, 'Perdas > 12M': 0, 'Limite de Crédito': 0.0, 'Limite Crédito (360 dias)': 0.0, 'Limite Crédito (+ que 360 dias)': 0.0}, {'Data': '2022-04', 'Risco Crédito': 0.0, 'Risco Total de Crédito': 0.0, 'Risco Indireto de Crédito': 0, 'Coobrigações': 0, 'Qtd. Instituições': 0, 'Qtd. transações': 0, 'A Vencer': 0.0, 'A Vencer 30 dias': 0.0, 'Total Atraso': 0, 'Atraso B': 0, 'Atraso C': 0, 'Atraso D': 0, 'Atraso E F G': 0, 'Atraso H': 0, 'Atraso > 1 ano': 0, 'Perdas Totais': 0, 'Perdas até 12M': 0, 'Perdas > 12M': 0, 'Limite de Crédito': 0.0, 'Limite Crédito (360 dias)': 0.0, 'Limite Crédito (+ que 360 dias)': 0.0}, {'Data': '2022-05', 'Risco Crédito': 0.0, 'Risco Total de Crédito': 0.0, 'Risco Indireto de Crédito': 0, 'Coobrigações': 0, 'Qtd. Instituições': 0, 'Qtd. transações': 0, 'A Vencer': 0.0, 'A Vencer 30 dias': 0.0, 'Total Atraso': 0, 'Atraso B': 0, 'Atraso C': 0, 'Atraso D': 0, 'Atraso E F G': 0, 'Atraso H': 0, 'Atraso > 1 ano': 0, 'Perdas Totais': 0, 'Perdas até 12M': 0, 'Perdas > 12M': 0, 'Limite de Crédito': 0.0, 'Limite Crédito (360 dias)': 0.0, 'Limite Crédito (+ que 360 dias)': 0.0}, {'Data': '2022-06', 'Risco Crédito': 0.0, 'Risco Total de Crédito': 0.0, 'Risco Indireto de Crédito': 0, 'Coobrigações': 0, 'Qtd. Instituições': 0, 'Qtd. transações': 0, 'A Vencer': 0.0, 'A Vencer 30 dias': 0.0, 'Total Atraso': 0, 'Atraso B': 0, 'Atraso C': 0, 'Atraso D': 0, 'Atraso E F G': 0, 'Atraso H': 0, 'Atraso > 1 ano': 0, 'Perdas Totais': 0, 'Perdas até 12M': 0, 'Perdas > 12M': 0, 'Limite de Crédito': 0.0, 'Limite Crédito (360 dias)': 0.0, 'Limite Crédito (+ que 360 dias)': 0.0}, {'Data': '2022-07', 'Risco Crédito': 0.0, 'Risco Total de Crédito': 0.0, 'Risco Indireto de Crédito': 0, 'Coobrigações': 0, 'Qtd. Instituições': 0, 'Qtd. transações': 0, 'A Vencer': 0.0, 'A Vencer 30 dias': 0.0, 'Total Atraso': 0, 'Atraso B': 0, 'Atraso C': 0, 'Atraso D': 0, 'Atraso E F G': 0, 'Atraso H': 0, 'Atraso > 1 ano': 0, 'Perdas Totais': 0, 'Perdas até 12M': 0, 'Perdas > 12M': 0, 'Limite de Crédito': 0.0, 'Limite Crédito (360 dias)': 0.0, 'Limite Crédito (+ que 360 dias)': 0.0}], page_action='native', page_current=0, page_size=6, sort_action='native', sort_mode='multi', style_as_list_view=True, style_cell={'textAlign': 'center', 'padding': '5px', 'font_size': '10px', 'font-family': 'Axiforma', 'height': 'auto'}, style_cell_conditional=[{'if': {'column_id': ''}, 'textAlign': 'left'}], style_data_conditional=[{'if': {'row_index': 'odd'}, 'backgroundColor': 'rgb(248, 248, 248)'}], style_header={'backgroundColor': 'rgb(230, 230, 230)', 'fontWeight': 'bold', 'font_size': '9px', 'maxWidth': '50px', 'textOverflow': 'ellipsis', 'whiteSpace': 'normal'}), style={'overflowX': 'auto', 'overflowY': 'auto', 'height': 'auto', 'margin': '1% 1%'})])], open=True),\n",
       " H6(children='Visão CNPJ de Relacionados', style={}),\n",
       " Details(children=[Summary('Histórico'), Div([Div(children=DataTable(id='table310', columns=[{'name': 'Data', 'id': 'Data'}, {'name': 'CNPJ', 'id': 'CNPJ'}, {'name': 'Risco Crédito', 'id': 'Risco Crédito'}, {'name': 'Risco Total de Crédito', 'id': 'Risco Total de Crédito'}, {'name': 'Risco Indireto de Crédito', 'id': 'Risco Indireto de Crédito'}, {'name': 'Coobrigações', 'id': 'Coobrigações'}, {'name': 'Qtd. Instituições', 'id': 'Qtd. Instituições'}, {'name': 'Qtd. transações', 'id': 'Qtd. transações'}, {'name': 'A Vencer', 'id': 'A Vencer'}, {'name': 'A Vencer 30 dias', 'id': 'A Vencer 30 dias'}, {'name': 'Total Atraso', 'id': 'Total Atraso'}, {'name': 'Atraso B', 'id': 'Atraso B'}, {'name': 'Atraso C', 'id': 'Atraso C'}, {'name': 'Atraso D', 'id': 'Atraso D'}, {'name': 'Atraso E F G', 'id': 'Atraso E F G'}, {'name': 'Atraso H', 'id': 'Atraso H'}, {'name': 'Atraso > 1 ano', 'id': 'Atraso > 1 ano'}, {'name': 'Perdas Totais', 'id': 'Perdas Totais'}, {'name': 'Perdas até 12M', 'id': 'Perdas até 12M'}, {'name': 'Perdas > 12M', 'id': 'Perdas > 12M'}, {'name': 'Limite de Crédito', 'id': 'Limite de Crédito'}, {'name': 'Limite Crédito (360 dias)', 'id': 'Limite Crédito (360 dias)'}, {'name': 'Limite Crédito (+ que 360 dias)', 'id': 'Limite Crédito (+ que 360 dias)'}], data=[{'Data': '2022-02', 'CNPJ': '16565585000127', 'Risco Crédito': 0.0, 'Risco Total de Crédito': 0.0, 'Risco Indireto de Crédito': 0, 'Coobrigações': 0, 'Qtd. Instituições': 0, 'Qtd. transações': 0, 'A Vencer': 0.0, 'A Vencer 30 dias': 0.0, 'Total Atraso': 0, 'Atraso B': 0, 'Atraso C': 0, 'Atraso D': 0, 'Atraso E F G': 0, 'Atraso H': 0, 'Atraso > 1 ano': 0, 'Perdas Totais': 0, 'Perdas até 12M': 0, 'Perdas > 12M': 0, 'Limite de Crédito': 0.0, 'Limite Crédito (360 dias)': 0.0, 'Limite Crédito (+ que 360 dias)': 0.0}, {'Data': '2022-03', 'CNPJ': '16565585000127', 'Risco Crédito': 0.0, 'Risco Total de Crédito': 0.0, 'Risco Indireto de Crédito': 0, 'Coobrigações': 0, 'Qtd. Instituições': 0, 'Qtd. transações': 0, 'A Vencer': 0.0, 'A Vencer 30 dias': 0.0, 'Total Atraso': 0, 'Atraso B': 0, 'Atraso C': 0, 'Atraso D': 0, 'Atraso E F G': 0, 'Atraso H': 0, 'Atraso > 1 ano': 0, 'Perdas Totais': 0, 'Perdas até 12M': 0, 'Perdas > 12M': 0, 'Limite de Crédito': 0.0, 'Limite Crédito (360 dias)': 0.0, 'Limite Crédito (+ que 360 dias)': 0.0}, {'Data': '2022-04', 'CNPJ': '16565585000127', 'Risco Crédito': 0.0, 'Risco Total de Crédito': 0.0, 'Risco Indireto de Crédito': 0, 'Coobrigações': 0, 'Qtd. Instituições': 0, 'Qtd. transações': 0, 'A Vencer': 0.0, 'A Vencer 30 dias': 0.0, 'Total Atraso': 0, 'Atraso B': 0, 'Atraso C': 0, 'Atraso D': 0, 'Atraso E F G': 0, 'Atraso H': 0, 'Atraso > 1 ano': 0, 'Perdas Totais': 0, 'Perdas até 12M': 0, 'Perdas > 12M': 0, 'Limite de Crédito': 0.0, 'Limite Crédito (360 dias)': 0.0, 'Limite Crédito (+ que 360 dias)': 0.0}, {'Data': '2022-05', 'CNPJ': '16565585000127', 'Risco Crédito': 0.0, 'Risco Total de Crédito': 0.0, 'Risco Indireto de Crédito': 0, 'Coobrigações': 0, 'Qtd. Instituições': 0, 'Qtd. transações': 0, 'A Vencer': 0.0, 'A Vencer 30 dias': 0.0, 'Total Atraso': 0, 'Atraso B': 0, 'Atraso C': 0, 'Atraso D': 0, 'Atraso E F G': 0, 'Atraso H': 0, 'Atraso > 1 ano': 0, 'Perdas Totais': 0, 'Perdas até 12M': 0, 'Perdas > 12M': 0, 'Limite de Crédito': 0.0, 'Limite Crédito (360 dias)': 0.0, 'Limite Crédito (+ que 360 dias)': 0.0}, {'Data': '2022-06', 'CNPJ': '16565585000127', 'Risco Crédito': 0.0, 'Risco Total de Crédito': 0.0, 'Risco Indireto de Crédito': 0, 'Coobrigações': 0, 'Qtd. Instituições': 0, 'Qtd. transações': 0, 'A Vencer': 0.0, 'A Vencer 30 dias': 0.0, 'Total Atraso': 0, 'Atraso B': 0, 'Atraso C': 0, 'Atraso D': 0, 'Atraso E F G': 0, 'Atraso H': 0, 'Atraso > 1 ano': 0, 'Perdas Totais': 0, 'Perdas até 12M': 0, 'Perdas > 12M': 0, 'Limite de Crédito': 0.0, 'Limite Crédito (360 dias)': 0.0, 'Limite Crédito (+ que 360 dias)': 0.0}, {'Data': '2022-07', 'CNPJ': '16565585000127', 'Risco Crédito': 0.0, 'Risco Total de Crédito': 0.0, 'Risco Indireto de Crédito': 0, 'Coobrigações': 0, 'Qtd. Instituições': 0, 'Qtd. transações': 0, 'A Vencer': 0.0, 'A Vencer 30 dias': 0.0, 'Total Atraso': 0, 'Atraso B': 0, 'Atraso C': 0, 'Atraso D': 0, 'Atraso E F G': 0, 'Atraso H': 0, 'Atraso > 1 ano': 0, 'Perdas Totais': 0, 'Perdas até 12M': 0, 'Perdas > 12M': 0, 'Limite de Crédito': 0.0, 'Limite Crédito (360 dias)': 0.0, 'Limite Crédito (+ que 360 dias)': 0.0}], page_action='native', page_current=0, page_size=6, sort_action='native', sort_mode='multi', style_as_list_view=True, style_cell={'textAlign': 'center', 'padding': '5px', 'font_size': '10px', 'font-family': 'Axiforma', 'height': 'auto'}, style_cell_conditional=[{'if': {'column_id': ''}, 'textAlign': 'left'}], style_data_conditional=[{'if': {'row_index': 'odd'}, 'backgroundColor': 'rgb(248, 248, 248)'}], style_header={'backgroundColor': 'rgb(230, 230, 230)', 'fontWeight': 'bold', 'font_size': '9px', 'maxWidth': '50px', 'textOverflow': 'ellipsis', 'whiteSpace': 'normal'}), style={'overflowX': 'auto', 'overflowY': 'auto', 'height': 'auto', 'margin': '1% 1%'})])], open=True),\n",
       " H6(children='Visão CPF', style={}),\n",
       " Details([Summary('Informação de Avalistas'), Div([Div(children=DataTable(id='table585', columns=[{'name': 'email', 'id': 'email'}, {'name': 'cpf', 'id': 'cpf'}, {'name': 'phoneNumber', 'id': 'phoneNumber'}, {'name': 'fullName', 'id': 'fullName'}], data=[{'email': 'pjbirriel@gmail.com', 'cpf': '00375019090', 'phoneNumber': '+5551995471910', 'fullName': 'PAULO JONKO BIRRIEL'}], page_action='native', page_current=0, page_size=15, sort_action='native', sort_mode='multi', style_as_list_view=True, style_cell={'textAlign': 'center', 'padding': '5px', 'font_size': '10px', 'font-family': 'Axiforma', 'height': 'auto'}, style_cell_conditional=[{'if': {'column_id': ''}, 'textAlign': 'left'}], style_data_conditional=[{'if': {'row_index': 'odd'}, 'backgroundColor': 'rgb(248, 248, 248)'}], style_header={'backgroundColor': 'rgb(230, 230, 230)', 'fontWeight': 'bold', 'font_size': '9px', 'maxWidth': '50px', 'textOverflow': 'ellipsis', 'whiteSpace': 'normal'}), style={'overflowX': 'auto', 'overflowY': 'auto', 'height': 'auto', 'margin': '1% 1%'})])]),\n",
       " Div(children=[Div(Div(children=DataTable(id='table541', columns=[{'name': '', 'id': ''}, {'name': 'R$', 'id': 'R$'}], data=[{'': 'Parcela Crédito Especial', 'R$': 0.0}, {'': 'Parcela Crédito Rotativo', 'R$': 259.01}, {'': 'Parcela Cartão de Crédito', 'R$': 6887.06}, {'': 'Parcela Crédito Consignado', 'R$': 0.0}, {'': 'Parcela Crédito Imobiliário', 'R$': 0.0}, {'': 'Parcela Outros Créditos', 'R$': 299.74}, {'': 'Outros Créditos a Vencer', 'R$': 7944.94}, {'': 'Crédito Consignado a Vencer', 'R$': 0.0}, {'': 'Crédito Imobiliário a Vencer', 'R$': 0.0}, {'': 'Cartão Crédito a Vencer', 'R$': 16019.26}, {'': 'Outros Créditos Vencidos', 'R$': 0.0}, {'': 'Crédito Consignado Vencido', 'R$': 0.0}, {'': 'Crédito Imobiliário Vencido', 'R$': 0.0}, {'': 'Cartão de Crédito Vencido', 'R$': 0.0}], page_action='native', page_current=0, page_size=14, sort_action='native', sort_mode='multi', style_as_list_view=True, style_cell={'textAlign': 'center', 'padding': '5px', 'font_size': '10px', 'font-family': 'Axiforma', 'height': 'auto'}, style_cell_conditional=[{'if': {'column_id': ''}, 'textAlign': 'left'}], style_data_conditional=[{'if': {'row_index': 'odd'}, 'backgroundColor': 'rgb(248, 248, 248)'}], style_header={'backgroundColor': 'rgb(230, 230, 230)', 'fontWeight': 'bold', 'font_size': '9px', 'maxWidth': '50px', 'textOverflow': 'ellipsis', 'whiteSpace': 'normal'}), style={'overflowX': 'auto', 'overflowY': 'auto', 'height': 'auto', 'margin': '1% 1%'})), Div(Div(children=DataTable(id='table31', columns=[{'name': '', 'id': ''}, {'name': '%', 'id': '%'}], data=[{'': 'lp / Faturamento auto-declarado', '%': 'N/A'}, {'': 'mp / Faturamento auto-declarado', '%': 'N/A'}, {'': 'Valor a expirar em 30 dias / Faturamento auto-declarado', '%': 'N/A'}, {'': 'Valor a expirar em 30 dias / Faturamento auto-declarado 3 meses', '%': 'N/A'}, {'': 'Valor a expirar em 30 dias / Faturamento auto-declarado 6 meses', '%': 'N/A'}, {'': 'Valor / Faturamento auto-declarado 3 meses', '%': 'N/A'}, {'': 'Valor / Faturamento auto-declarado ', '%': 'N/A'}, {'': 'Risco total / Faturamento auto-declarado', '%': 'N/A'}], page_action='native', page_current=0, page_size=14, sort_action='native', sort_mode='multi', style_as_list_view=True, style_cell={'textAlign': 'center', 'padding': '5px', 'font_size': '10px', 'font-family': 'Axiforma', 'height': 'auto'}, style_cell_conditional=[{'if': {'column_id': ''}, 'textAlign': 'left'}], style_data_conditional=[{'if': {'row_index': 'odd'}, 'backgroundColor': 'rgb(248, 248, 248)'}], style_header={'backgroundColor': 'rgb(230, 230, 230)', 'fontWeight': 'bold', 'font_size': '9px', 'maxWidth': '50px', 'textOverflow': 'ellipsis', 'whiteSpace': 'normal'}), style={'overflowX': 'auto', 'overflowY': 'auto', 'height': 'auto', 'margin': '1% 1%'}))], style={'width': '100%', 'display': 'inline-block'}),\n",
       " Div(children=[Div(children=[Graph(id='creditLimitAmountcpfgauge1', figure=Figure({\n",
       "     'data': [{'domain': {'column': 0, 'row': 0},\n",
       "               'gauge': {'axis': {'visible': False}},\n",
       "               'mode': 'number',\n",
       "               'number': {'font': {'size': 40}, 'prefix': 'Alto - '},\n",
       "               'title': {'font': {'size': 24}, 'text': 'Risco - SCR CPF'},\n",
       "               'type': 'indicator',\n",
       "               'value': 2}],\n",
       "     'layout': {'height': 200, 'template': '...'}\n",
       " }), style={'background': '#FFFFFF', 'border': 'none', 'border-radius': '1px', 'box-shadow': '0 1px 1px 0 rgba(70, 76, 79, .2)'})], className='tripleFigure', style={}), Div(children=[Graph(id='creditLimitAmountcpfgauge2', figure=Figure({\n",
       "     'data': [{'domain': {'column': 0, 'row': 0},\n",
       "               'gauge': {'axis': {'visible': False}},\n",
       "               'mode': 'number',\n",
       "               'number': {'font': {'size': 40}, 'prefix': 'Medio - '},\n",
       "               'title': {'font': {'size': 24}, 'text': 'Uso - SCR CPF'},\n",
       "               'type': 'indicator',\n",
       "               'value': 1}],\n",
       "     'layout': {'height': 200, 'template': '...'}\n",
       " }), style={'background': '#FFFFFF', 'border': 'none', 'border-radius': '1px', 'box-shadow': '0 1px 1px 0 rgba(70, 76, 79, .2)'})], className='tripleFigure', style={}), Div(children=[Graph(id='creditLimitAmountcpfgauge3', figure=Figure({\n",
       "     'data': [{'domain': {'column': 0, 'row': 0},\n",
       "               'gauge': {'axis': {'visible': False}},\n",
       "               'mode': 'number',\n",
       "               'number': {'font': {'size': 40}, 'prefix': 'Baixo - '},\n",
       "               'title': {'font': {'size': 24}, 'text': 'Variação - SCR CPF'},\n",
       "               'type': 'indicator',\n",
       "               'value': 0}],\n",
       "     'layout': {'height': 200, 'template': '...'}\n",
       " }), style={'background': '#FFFFFF', 'border': 'none', 'border-radius': '1px', 'box-shadow': '0 1px 1px 0 rgba(70, 76, 79, .2)'})], className='tripleFigure', style={})], className='row', style={'margin': '1% 1%'}),\n",
       " Graph(figure=Figure({\n",
       "     'data': [{'name': '00375019090',\n",
       "               'type': 'bar',\n",
       "               'x': array(['2022-02', '2022-03', '2022-04', '2022-05', '2022-06', '2022-07'],\n",
       "                          dtype=object),\n",
       "               'y': array([    0.  ,   259.87,  3899.97, 14451.73, 20422.75, 24223.21])}],\n",
       "     'layout': {'barmode': 'stack',\n",
       "                'colorway': [#5284ff, #295982, #6fabd0, #92c0d7, #C9D3CC, #d7f0e9,\n",
       "                             #b0d5c7, #477977, #0BB599],\n",
       "                'font': {'family': 'Axiforma'},\n",
       "                'template': '...',\n",
       "                'title': {'text': 'Risco de Crédito - CPF', 'x': 0.5, 'xanchor': 'center', 'y': 0.9, 'yanchor': 'top'},\n",
       "                'xaxis': {'nticks': 6, 'tickangle': -45, 'tickformat': '%m-%Y', 'title': {'text': 'Data'}},\n",
       "                'yaxis': {'title': {'text': 'Risco Crédito (R$)'}}}\n",
       " }), style={'background': '#FFFFFF', 'border': 'none', 'border-radius': '2px', 'box-shadow': '0 2px 10px 0 rgba(70, 76, 79, .2)'}),\n",
       " Details(children=[Summary('Histórico'), Div([Div(children=DataTable(id='table229', columns=[{'name': 'Data', 'id': 'Data'}, {'name': 'CPF', 'id': 'CPF'}, {'name': 'Risco Crédito', 'id': 'Risco Crédito'}, {'name': 'Risco Total de Crédito', 'id': 'Risco Total de Crédito'}, {'name': 'Risco Indireto de Crédito', 'id': 'Risco Indireto de Crédito'}, {'name': 'Coobrigações', 'id': 'Coobrigações'}, {'name': 'Qtd. Instituições', 'id': 'Qtd. Instituições'}, {'name': 'Qtd. transações', 'id': 'Qtd. transações'}, {'name': 'A Vencer', 'id': 'A Vencer'}, {'name': 'A Vencer 30 dias', 'id': 'A Vencer 30 dias'}, {'name': 'Total Atraso', 'id': 'Total Atraso'}, {'name': 'Atraso B', 'id': 'Atraso B'}, {'name': 'Atraso C', 'id': 'Atraso C'}, {'name': 'Atraso D', 'id': 'Atraso D'}, {'name': 'Atraso E F G', 'id': 'Atraso E F G'}, {'name': 'Atraso H', 'id': 'Atraso H'}, {'name': 'Atraso > 1 ano', 'id': 'Atraso > 1 ano'}, {'name': 'Perdas Totais', 'id': 'Perdas Totais'}, {'name': 'Perdas até 12M', 'id': 'Perdas até 12M'}, {'name': 'Perdas > 12M', 'id': 'Perdas > 12M'}, {'name': 'Limite de Crédito', 'id': 'Limite de Crédito'}, {'name': 'Limite Crédito (360 dias)', 'id': 'Limite Crédito (360 dias)'}, {'name': 'Limite Crédito (+ que 360 dias)', 'id': 'Limite Crédito (+ que 360 dias)'}], data=[{'Data': '2022-02', 'CPF': '00375019090', 'Risco Crédito': 0.0, 'Risco Total de Crédito': 0.0, 'Risco Indireto de Crédito': 0, 'Coobrigações': 0, 'Qtd. Instituições': 0, 'Qtd. transações': 0, 'A Vencer': 0.0, 'A Vencer 30 dias': 0.0, 'Total Atraso': 0, 'Atraso B': 0, 'Atraso C': 0, 'Atraso D': 0, 'Atraso E F G': 0, 'Atraso H': 0, 'Atraso > 1 ano': 0, 'Perdas Totais': 0, 'Perdas até 12M': 0, 'Perdas > 12M': 0, 'Limite de Crédito': 0.0, 'Limite Crédito (360 dias)': 0.0, 'Limite Crédito (+ que 360 dias)': 0.0}, {'Data': '2022-03', 'CPF': '00375019090', 'Risco Crédito': 259.87, 'Risco Total de Crédito': 259.87, 'Risco Indireto de Crédito': 0, 'Coobrigações': 0, 'Qtd. Instituições': 1, 'Qtd. transações': 2, 'A Vencer': 259.87, 'A Vencer 30 dias': 259.87, 'Total Atraso': 0, 'Atraso B': 0, 'Atraso C': 0, 'Atraso D': 0, 'Atraso E F G': 0, 'Atraso H': 0, 'Atraso > 1 ano': 0, 'Perdas Totais': 0, 'Perdas até 12M': 0, 'Perdas > 12M': 0, 'Limite de Crédito': 106.67, 'Limite Crédito (360 dias)': 106.67, 'Limite Crédito (+ que 360 dias)': 0.0}, {'Data': '2022-04', 'CPF': '00375019090', 'Risco Crédito': 3899.97, 'Risco Total de Crédito': 3899.97, 'Risco Indireto de Crédito': 0, 'Coobrigações': 0, 'Qtd. Instituições': 2, 'Qtd. transações': 4, 'A Vencer': 3899.97, 'A Vencer 30 dias': 1651.29, 'Total Atraso': 0, 'Atraso B': 0, 'Atraso C': 0, 'Atraso D': 0, 'Atraso E F G': 0, 'Atraso H': 0, 'Atraso > 1 ano': 0, 'Perdas Totais': 0, 'Perdas até 12M': 0, 'Perdas > 12M': 0, 'Limite de Crédito': 1000.3, 'Limite Crédito (360 dias)': 1000.3, 'Limite Crédito (+ que 360 dias)': 0.0}, {'Data': '2022-05', 'CPF': '00375019090', 'Risco Crédito': 14451.73, 'Risco Total de Crédito': 14451.73, 'Risco Indireto de Crédito': 0, 'Coobrigações': 0, 'Qtd. Instituições': 9, 'Qtd. transações': 17, 'A Vencer': 14451.73, 'A Vencer 30 dias': 4299.11, 'Total Atraso': 0, 'Atraso B': 0, 'Atraso C': 0, 'Atraso D': 0, 'Atraso E F G': 0, 'Atraso H': 0, 'Atraso > 1 ano': 0, 'Perdas Totais': 0, 'Perdas até 12M': 0, 'Perdas > 12M': 0, 'Limite de Crédito': 11924.59, 'Limite Crédito (360 dias)': 9.12, 'Limite Crédito (+ que 360 dias)': 11915.47}, {'Data': '2022-06', 'CPF': '00375019090', 'Risco Crédito': 20422.75, 'Risco Total de Crédito': 20422.75, 'Risco Indireto de Crédito': 0, 'Coobrigações': 0, 'Qtd. Instituições': 10, 'Qtd. transações': 26, 'A Vencer': 20422.75, 'A Vencer 30 dias': 7282.26, 'Total Atraso': 0, 'Atraso B': 0, 'Atraso C': 0, 'Atraso D': 0, 'Atraso E F G': 0, 'Atraso H': 0, 'Atraso > 1 ano': 0, 'Perdas Totais': 0, 'Perdas até 12M': 0, 'Perdas > 12M': 0, 'Limite de Crédito': 7547.47, 'Limite Crédito (360 dias)': 510.59, 'Limite Crédito (+ que 360 dias)': 7036.88}, {'Data': '2022-07', 'CPF': '00375019090', 'Risco Crédito': 24223.21, 'Risco Total de Crédito': 24223.21, 'Risco Indireto de Crédito': 0, 'Coobrigações': 0, 'Qtd. Instituições': 10, 'Qtd. transações': 26, 'A Vencer': 24223.21, 'A Vencer 30 dias': 9810.82, 'Total Atraso': 0, 'Atraso B': 0, 'Atraso C': 0, 'Atraso D': 0, 'Atraso E F G': 0, 'Atraso H': 0, 'Atraso > 1 ano': 0, 'Perdas Totais': 0, 'Perdas até 12M': 0, 'Perdas > 12M': 0, 'Limite de Crédito': 62.42, 'Limite Crédito (360 dias)': 0.0, 'Limite Crédito (+ que 360 dias)': 62.42}], page_action='native', page_current=0, page_size=6, sort_action='native', sort_mode='multi', style_as_list_view=True, style_cell={'textAlign': 'center', 'padding': '5px', 'font_size': '10px', 'font-family': 'Axiforma', 'height': 'auto'}, style_cell_conditional=[{'if': {'column_id': ''}, 'textAlign': 'left'}], style_data_conditional=[{'if': {'row_index': 'odd'}, 'backgroundColor': 'rgb(248, 248, 248)'}], style_header={'backgroundColor': 'rgb(230, 230, 230)', 'fontWeight': 'bold', 'font_size': '9px', 'maxWidth': '50px', 'textOverflow': 'ellipsis', 'whiteSpace': 'normal'}), style={'overflowX': 'auto', 'overflowY': 'auto', 'height': 'auto', 'margin': '1% 1%'})])], open=True),\n",
       " Details(children=[Summary('Categorias'), Div([Div(children=DataTable(id='table770', columns=[{'name': 'CPF', 'id': 'CPF'}, {'name': 'domain', 'id': 'domain'}, {'name': 'subdomain', 'id': 'subdomain'}, {'name': 'code', 'id': 'code'}, {'name': 'type', 'id': 'type'}, {'name': '2022-03', 'id': '2022-03'}, {'name': '2022-04', 'id': '2022-04'}, {'name': '2022-05', 'id': '2022-05'}, {'name': '2022-06', 'id': '2022-06'}, {'name': '2022-07', 'id': '2022-07'}, {'name': '2022-03', 'id': '2022-03'}, {'name': '2022-04', 'id': '2022-04'}, {'name': '2022-05', 'id': '2022-05'}, {'name': '2022-06', 'id': '2022-06'}, {'name': '2022-07', 'id': '2022-07'}], data=[{'CPF': '00375019090', 'domain': 'Empréstimos', 'subdomain': 'Cartão de crédito – compra, fatura parcelada ou saque financiado pela instituição emitente do cartão ', 'code': '0210', 'type': 'A VENCER', '2022-03': nan, '2022-04': nan, '2022-05': 647.9, '2022-06': 647.9, '2022-07': 1761.47}, {'CPF': '00375019090', 'domain': 'Empréstimos', 'subdomain': 'Crédito pessoal - sem consignação em folha de pagam.', 'code': '0203', 'type': 'A VENCER', '2022-03': nan, '2022-04': 2554.92, '2022-05': 7706.57, '2022-06': 8052.87, '2022-07': 7944.94}, {'CPF': '00375019090', 'domain': 'Empréstimos', 'subdomain': 'Crédito rotativo vinculado a cartão de crédito', 'code': '0204', 'type': 'A VENCER', '2022-03': nan, '2022-04': nan, '2022-05': nan, '2022-06': nan, '2022-07': 259.01}, {'CPF': '00375019090', 'domain': 'Outros créditos', 'subdomain': 'Cartão de crédito - compra à vista e parcelado lojista', 'code': '1304', 'type': 'A VENCER', '2022-03': 259.87, '2022-04': 1345.05, '2022-05': 6097.26, '2022-06': 11721.98, '2022-07': 14257.79}], page_action='native', page_current=0, page_size=4, sort_action='native', sort_mode='multi', style_as_list_view=True, style_cell={'textAlign': 'center', 'padding': '5px', 'font_size': '10px', 'font-family': 'Axiforma', 'height': 'auto'}, style_cell_conditional=[{'if': {'column_id': ''}, 'textAlign': 'left'}], style_data_conditional=[{'if': {'row_index': 'odd'}, 'backgroundColor': 'rgb(248, 248, 248)'}], style_header={'backgroundColor': 'rgb(230, 230, 230)', 'fontWeight': 'bold', 'font_size': '9px', 'maxWidth': '50px', 'textOverflow': 'ellipsis', 'whiteSpace': 'normal'}), style={'overflowX': 'auto', 'overflowY': 'auto', 'height': 'auto', 'margin': '1% 1%'})])], open=True)]"
      ]
     },
     "execution_count": 2,
     "metadata": {},
     "output_type": "execute_result"
    }
   ],
   "source": [
    "scr(client,557247)"
   ]
  }
 ],
 "metadata": {
  "kernelspec": {
   "display_name": "Python 3.9.13 64-bit (microsoft store)",
   "language": "python",
   "name": "python3"
  },
  "language_info": {
   "codemirror_mode": {
    "name": "ipython",
    "version": 3
   },
   "file_extension": ".py",
   "mimetype": "text/x-python",
   "name": "python",
   "nbconvert_exporter": "python",
   "pygments_lexer": "ipython3",
   "version": "3.9.13"
  },
  "orig_nbformat": 4,
  "vscode": {
   "interpreter": {
    "hash": "c170956f4fddac2efe669e01ec99d6e5bb581ac8aa801e44424b72f005552119"
   }
  }
 },
 "nbformat": 4,
 "nbformat_minor": 2
}
